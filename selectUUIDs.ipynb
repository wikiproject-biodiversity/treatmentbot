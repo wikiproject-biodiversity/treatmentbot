{
 "cells": [
  {
   "cell_type": "code",
   "execution_count": 3,
   "metadata": {
    "collapsed": true,
    "ExecuteTime": {
     "end_time": "2023-10-25T21:51:52.212633Z",
     "start_time": "2023-10-25T21:51:51.613951Z"
    }
   },
   "outputs": [],
   "source": [
    "import json\n",
    "import requests"
   ]
  },
  {
   "cell_type": "code",
   "execution_count": 7,
   "outputs": [],
   "source": [
    "date = '2023-10-18'\n",
    "url = f\"https://tb.plazi.org/GgServer/srsStats/stats?outputFields=doc.uuid+bib.pubDate+bib.year+tax.name+tax.kingdomEpithet+tax.familyEpithet+tax.status&groupingFields=doc.uuid+bib.pubDate+bib.year+tax.name+tax.kingdomEpithet+tax.familyEpithet+tax.status&FP-bib.pubDate=%22{date}%25%22&FP-bib.year=2023&FP-tax.status=%22sp.%20nov.%22&format=JSON\""
   ],
   "metadata": {
    "collapsed": false,
    "ExecuteTime": {
     "end_time": "2023-10-26T13:54:03.346996Z",
     "start_time": "2023-10-26T13:54:03.292310Z"
    }
   }
  },
  {
   "cell_type": "code",
   "execution_count": 8,
   "outputs": [
    {
     "data": {
      "text/plain": "19"
     },
     "execution_count": 8,
     "metadata": {},
     "output_type": "execute_result"
    }
   ],
   "source": [
    "results = requests.get(url).json()\n",
    "results[\"data\"]\n",
    "uuids = []\n",
    "for result in results[\"data\"]:\n",
    "    uuids.append(result[\"DocUuid\"])\n",
    "len(uuids)"
   ],
   "metadata": {
    "collapsed": false,
    "ExecuteTime": {
     "end_time": "2023-10-26T13:54:06.482176Z",
     "start_time": "2023-10-26T13:54:05.823291Z"
    }
   }
  },
  {
   "cell_type": "code",
   "execution_count": 9,
   "outputs": [
    {
     "data": {
      "text/plain": "['03A41F2592056323FE80FC22FAC5E8EB',\n '03A41F25920B632BFC1AFF61FE8FEE96',\n '03A41F25920F6321FBFCFA85FE83EC57',\n '03A41F25920F632BFF48FE60FB42EBE9',\n '03A41F2592136330FEB4FAC5FADAE9CA',\n '03A41F259217632FFBEEFA44FE4BE8EB',\n '03A41F25921B633BFEA6FBA2FE43EC17',\n '03A41F25921F6335FE8FFCE2FDCAE8EB',\n '03A41F2592216304FEB4FC62FB0CE8EC',\n '03A41F2592236302FEA5F967FE0BE8EB',\n '03A41F25922B630AFC3BFBE2FB47E9CA',\n '03A41F25922B630FFEC6FE20FC7CEB08',\n '03A41F2592326313FC17FB05FC3FE96B',\n '03A41F259236630FFEDCFD63FE0FEE56',\n 'BB7C373A27715C9B9521023C0449D77C',\n 'CB5F87A3FFF1F039FF2EFF54FC13EA52',\n 'CB5F87A3FFFBF037FF2EFD00FEEFEB47',\n 'CB5F87A3FFFDF03FFF2EFAF4FABAEC96',\n 'CB5F87A3FFFEF033FF2EFA27FA3BE92A']"
     },
     "execution_count": 9,
     "metadata": {},
     "output_type": "execute_result"
    }
   ],
   "source": [
    "uuids"
   ],
   "metadata": {
    "collapsed": false,
    "ExecuteTime": {
     "end_time": "2023-10-26T13:54:09.442900Z",
     "start_time": "2023-10-26T13:54:09.402455Z"
    }
   }
  },
  {
   "cell_type": "code",
   "execution_count": null,
   "outputs": [],
   "source": [],
   "metadata": {
    "collapsed": false
   }
  }
 ],
 "metadata": {
  "kernelspec": {
   "display_name": "Python 3",
   "language": "python",
   "name": "python3"
  },
  "language_info": {
   "codemirror_mode": {
    "name": "ipython",
    "version": 2
   },
   "file_extension": ".py",
   "mimetype": "text/x-python",
   "name": "python",
   "nbconvert_exporter": "python",
   "pygments_lexer": "ipython2",
   "version": "2.7.6"
  }
 },
 "nbformat": 4,
 "nbformat_minor": 0
}
