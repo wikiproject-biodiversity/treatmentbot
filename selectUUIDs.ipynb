{
 "cells": [
  {
   "cell_type": "code",
   "metadata": {
    "collapsed": true,
    "ExecuteTime": {
     "end_time": "2024-04-25T18:52:59.075160Z",
     "start_time": "2024-04-25T18:52:59.047675Z"
    }
   },
   "source": [
    "import json\n",
    "import requests"
   ],
   "outputs": [],
   "execution_count": 1
  },
  {
   "cell_type": "code",
   "source": [
    "date = '2024-04-23'\n",
    "url = f\"https://tb.plazi.org/GgServer/srsStats/stats?outputFields=doc.uuid+bib.pubDate+bib.year+tax.name+tax.kingdomEpithet+tax.familyEpithet+tax.status&groupingFields=doc.uuid+bib.pubDate+bib.year+tax.name+tax.kingdomEpithet+tax.familyEpithet+tax.status&FP-bib.pubDate=%22{date}%25%22&FP-bib.year=2024&FP-tax.status=%22sp.%20nov.%22&format=JSON\""
   ],
   "metadata": {
    "collapsed": false,
    "ExecuteTime": {
     "end_time": "2024-04-26T07:09:58.126573Z",
     "start_time": "2024-04-26T07:09:58.117770Z"
    }
   },
   "outputs": [],
   "execution_count": 22
  },
  {
   "cell_type": "code",
   "source": [
    "results = requests.get(url).json()\n",
    "results[\"data\"]\n",
    "uuids = []\n",
    "for result in results[\"data\"]:\n",
    "    uuids.append(result[\"DocUuid\"])\n",
    "len(uuids)"
   ],
   "metadata": {
    "collapsed": false,
    "ExecuteTime": {
     "end_time": "2024-04-26T07:10:00.333658Z",
     "start_time": "2024-04-26T07:09:59.940265Z"
    }
   },
   "outputs": [
    {
     "data": {
      "text/plain": [
       "33"
      ]
     },
     "execution_count": 23,
     "metadata": {},
     "output_type": "execute_result"
    }
   ],
   "execution_count": 23
  },
  {
   "cell_type": "code",
   "source": [
    "uuids"
   ],
   "metadata": {
    "collapsed": false,
    "ExecuteTime": {
     "end_time": "2024-04-25T18:53:48.389751Z",
     "start_time": "2024-04-25T18:53:48.386013Z"
    }
   },
   "outputs": [
    {
     "data": {
      "text/plain": [
       "[]"
      ]
     },
     "execution_count": 4,
     "metadata": {},
     "output_type": "execute_result"
    }
   ],
   "execution_count": 4
  },
  {
   "cell_type": "code",
   "source": "url",
   "metadata": {
    "collapsed": false,
    "ExecuteTime": {
     "end_time": "2024-04-26T07:08:03.533120Z",
     "start_time": "2024-04-26T07:08:03.523371Z"
    }
   },
   "outputs": [
    {
     "data": {
      "text/plain": [
       "'https://tb.plazi.org/GgServer/srsStats/stats?outputFields=doc.uuid+bib.pubDate+bib.year+tax.name+tax.kingdomEpithet+tax.familyEpithet+tax.status&groupingFields=doc.uuid+bib.pubDate+bib.year+tax.name+tax.kingdomEpithet+tax.familyEpithet+tax.status&FP-bib.pubDate=%222024-04-23%25%22&FP-bib.year=2023&FP-tax.status=%22sp.%20nov.%22&format=JSON'"
      ]
     },
     "execution_count": 21,
     "metadata": {},
     "output_type": "execute_result"
    }
   ],
   "execution_count": 21
  },
  {
   "metadata": {},
   "cell_type": "code",
   "outputs": [],
   "execution_count": null,
   "source": ""
  }
 ],
 "metadata": {
  "kernelspec": {
   "display_name": "Python 3",
   "language": "python",
   "name": "python3"
  },
  "language_info": {
   "codemirror_mode": {
    "name": "ipython",
    "version": 2
   },
   "file_extension": ".py",
   "mimetype": "text/x-python",
   "name": "python",
   "nbconvert_exporter": "python",
   "pygments_lexer": "ipython2",
   "version": "2.7.6"
  }
 },
 "nbformat": 4,
 "nbformat_minor": 0
}
